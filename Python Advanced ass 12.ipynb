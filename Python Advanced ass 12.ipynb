{
 "cells": [
  {
   "cell_type": "markdown",
   "id": "eb245767",
   "metadata": {},
   "source": [
    "Q1. Does assigning a value to a string's indexed character violate Python's string immutability?\n",
    "\n",
    "          One final thing that makes strings different from some other Python collection types is that you are not allowed to modify the individual characters in the collection. It is tempting to use the [] operator on the left side of an assignment, with the intention of changing a character in a string. For example, in the following code, we would like to change the first letter of greeting."
   ]
  },
  {
   "cell_type": "code",
   "execution_count": 1,
   "id": "85a15aad",
   "metadata": {},
   "outputs": [
    {
     "ename": "TypeError",
     "evalue": "'str' object does not support item assignment",
     "output_type": "error",
     "traceback": [
      "\u001b[1;31m---------------------------------------------------------------------------\u001b[0m",
      "\u001b[1;31mTypeError\u001b[0m                                 Traceback (most recent call last)",
      "Input \u001b[1;32mIn [1]\u001b[0m, in \u001b[0;36m<cell line: 2>\u001b[1;34m()\u001b[0m\n\u001b[0;32m      1\u001b[0m greeting \u001b[38;5;241m=\u001b[39m \u001b[38;5;124m\"\u001b[39m\u001b[38;5;124mHello, world!\u001b[39m\u001b[38;5;124m\"\u001b[39m\n\u001b[1;32m----> 2\u001b[0m greeting[\u001b[38;5;241m0\u001b[39m] \u001b[38;5;241m=\u001b[39m \u001b[38;5;124m'\u001b[39m\u001b[38;5;124mJ\u001b[39m\u001b[38;5;124m'\u001b[39m            \u001b[38;5;66;03m# ERROR!\u001b[39;00m\n\u001b[0;32m      3\u001b[0m \u001b[38;5;28mprint\u001b[39m(greeting)\n",
      "\u001b[1;31mTypeError\u001b[0m: 'str' object does not support item assignment"
     ]
    }
   ],
   "source": [
    "greeting = \"Hello, world!\"\n",
    "greeting[0] = 'J'            # ERROR!\n",
    "print(greeting)"
   ]
  },
  {
   "cell_type": "markdown",
   "id": "4280b5eb",
   "metadata": {},
   "source": [
    "Instead of producing the output Jello, world!, this code produces the runtime error TypeError: 'str' object does not support item assignment.\n",
    "\n",
    "Strings are immutable, which means you cannot change an existing string. The best you can do is create a new string that is a variation on the original."
   ]
  },
  {
   "cell_type": "code",
   "execution_count": 2,
   "id": "63e76ca9",
   "metadata": {},
   "outputs": [
    {
     "name": "stdout",
     "output_type": "stream",
     "text": [
      "Jello, world!\n",
      "Hello, world!\n"
     ]
    }
   ],
   "source": [
    "greeting = \"Hello, world!\"\n",
    "newGreeting = 'J' + greeting[1:]\n",
    "print(newGreeting)\n",
    "print(greeting)"
   ]
  },
  {
   "cell_type": "markdown",
   "id": "a2185079",
   "metadata": {},
   "source": [
    "Q2. Does using the += operator to concatenate strings violate Python's string immutability? Why or why not?\n",
    "\n",
    "            The easiest way of concatenating strings is to use the + or the += operator. The + operator is used both for adding numbers and strings; in programming we say that the operator is overloaded."
   ]
  },
  {
   "cell_type": "code",
   "execution_count": 3,
   "id": "4156583c",
   "metadata": {},
   "outputs": [
    {
     "name": "stdout",
     "output_type": "stream",
     "text": [
      "old tree\n"
     ]
    }
   ],
   "source": [
    "a = 'old'\n",
    "b = ' tree'\n",
    "\n",
    "c = a + b\n",
    "print(c)"
   ]
  },
  {
   "cell_type": "markdown",
   "id": "6bfdda2d",
   "metadata": {},
   "source": [
    "Two strings are added using the + operator.\n",
    "\n",
    "In the second example, we use the compound addition operator."
   ]
  },
  {
   "cell_type": "code",
   "execution_count": 4,
   "id": "64cc398c",
   "metadata": {},
   "outputs": [
    {
     "name": "stdout",
     "output_type": "stream",
     "text": [
      "There are three falcons in the sky\n"
     ]
    }
   ],
   "source": [
    "msg = 'There are'\n",
    "\n",
    "msg += ' three falcons'\n",
    "msg += ' in the sky'\n",
    "\n",
    "print(msg)"
   ]
  },
  {
   "cell_type": "markdown",
   "id": "4f27d43e",
   "metadata": {},
   "source": [
    "Q3. In Python, how many different ways are there to index a character?\n",
    "\n",
    "        Indexing means referring to an element of an iterable by its position within the iterable. Each of a string’s characters corresponds to an index number and each character can be accessed using their index number.\n",
    "\n",
    "        Accessing Characters by Positive Index Number and Accessing Characters by Negative Index Number\n",
    "\n",
    "1.Accessing Characters by Positive Index Number:\n",
    "\n",
    "        In this type of Indexing, we pass a Positive index(which we want to access) in square brackets. The index number start from index number 0 (which denotes the first character of a string)."
   ]
  },
  {
   "cell_type": "code",
   "execution_count": 7,
   "id": "4a6028dc",
   "metadata": {},
   "outputs": [
    {
     "name": "stdout",
     "output_type": "stream",
     "text": [
      "G\n",
      "i\n",
      "G\n"
     ]
    }
   ],
   "source": [
    "# declaring the string\n",
    "str = \"God is Great!\"\n",
    "  \n",
    "# accessing the character of str at 0th index\n",
    "print(str[0])\n",
    "  \n",
    "# accessing the character of str at 4th index\n",
    "print(str[4])\n",
    "  \n",
    "# accessing the character of str at 7th index\n",
    "print(str[7])"
   ]
  },
  {
   "cell_type": "markdown",
   "id": "0517aa7f",
   "metadata": {},
   "source": [
    "2.Accessing Characters by Negative Index Number :\n",
    "\n",
    "        In this type of Indexing, we pass the Negative index(which we want to access) in square brackets. Here the index number starts from index number -1 (which denotes the last character of a string)."
   ]
  },
  {
   "cell_type": "code",
   "execution_count": 8,
   "id": "c13aeffc",
   "metadata": {},
   "outputs": [
    {
     "name": "stdout",
     "output_type": "stream",
     "text": [
      "!\n",
      "a\n",
      " \n"
     ]
    }
   ],
   "source": [
    "# declaring the string\n",
    "str = \"One Neuron for all !\"\n",
    "  \n",
    "# accessing the character of str at last index\n",
    "print(str[-1])\n",
    "  \n",
    "# accessing the character of str at 5th index from the last\n",
    "print(str[-5])\n",
    "  \n",
    "# accessing the character of str at 10th index from the last\n",
    "print(str[-10])"
   ]
  },
  {
   "cell_type": "markdown",
   "id": "89e85842",
   "metadata": {},
   "source": [
    "Slicing:\n",
    "\n",
    "     Slicing in Python is a feature that enables accessing parts of sequence. In slicing string, we create a substring, which is essentially a string that exists within another string. We use slicing when we require a part of string and not the complete string. "
   ]
  },
  {
   "cell_type": "code",
   "execution_count": 9,
   "id": "78a5c016",
   "metadata": {},
   "outputs": [
    {
     "name": "stdout",
     "output_type": "stream",
     "text": [
      "One\n",
      "n \n",
      "!larfn\n"
     ]
    }
   ],
   "source": [
    "# declaring the string\n",
    "str =\"One Neuron for all !\"\n",
    "  \n",
    "# slicing using indexing sequence \n",
    "print(str[: 3]) \n",
    "print(str[1 : 5 : 2]) \n",
    "print(str[-1 : -12 : -2])"
   ]
  },
  {
   "cell_type": "markdown",
   "id": "a61bfb85",
   "metadata": {},
   "source": [
    "Q4. What is the relationship between indexing and slicing?\n",
    "\n",
    "     “Indexing” means referring to an element of an iterable by its position within the iterable.\n",
    "\n",
    "Indexing To retrieve an element of the list, we use the index operator ([]):"
   ]
  },
  {
   "cell_type": "code",
   "execution_count": null,
   "id": "014694a0",
   "metadata": {},
   "outputs": [],
   "source": [
    "0    1    2    3    4    5    6    7    8\n",
    "  ↓    ↓    ↓    ↓    ↓    ↓    ↓    ↓    ↓\n",
    "['a', 'b', 'c', 'd', 'e', 'f', 'g', 'h', 'i']\n",
    "  ↑    ↑    ↑    ↑    ↑    ↑    ↑    ↑    ↑\n",
    " -9   -8   -7   -6   -5   -4   -3   -2   -1"
   ]
  },
  {
   "cell_type": "markdown",
   "id": "2a745a88",
   "metadata": {},
   "source": [
    "“Slicing” means getting a subset of elements from an iterable based on their indices.\n",
    "\n",
    "A slice is a subset of list elements. In the case of lists, a single slice will always be of contiguous elements. Slice notation takes the form"
   ]
  },
  {
   "cell_type": "code",
   "execution_count": 11,
   "id": "a49ae827",
   "metadata": {},
   "outputs": [
    {
     "data": {
      "text/plain": [
       "['a', 'b', 'c', 'd', 'e', 'f', 'g', 'h', 'i']"
      ]
     },
     "execution_count": 11,
     "metadata": {},
     "output_type": "execute_result"
    }
   ],
   "source": [
    "my_list = [_ for _ in 'abcdefghi']\n",
    "my_list\n",
    "['a', 'b', 'c', 'd', 'e', 'f', 'g', 'h', 'i']"
   ]
  },
  {
   "cell_type": "code",
   "execution_count": 13,
   "id": "c583d770",
   "metadata": {},
   "outputs": [
    {
     "data": {
      "text/plain": [
       "'a'"
      ]
     },
     "execution_count": 13,
     "metadata": {},
     "output_type": "execute_result"
    }
   ],
   "source": [
    "my_list[0]"
   ]
  },
  {
   "cell_type": "code",
   "execution_count": 15,
   "id": "7faac7f8",
   "metadata": {},
   "outputs": [
    {
     "data": {
      "text/plain": [
       "['f', 'g', 'h', 'i']"
      ]
     },
     "execution_count": 15,
     "metadata": {},
     "output_type": "execute_result"
    }
   ],
   "source": [
    "my_list[5:]"
   ]
  },
  {
   "cell_type": "code",
   "execution_count": 16,
   "id": "a480f43a",
   "metadata": {},
   "outputs": [
    {
     "data": {
      "text/plain": [
       "['a', 'b', 'c', 'd']"
      ]
     },
     "execution_count": 16,
     "metadata": {},
     "output_type": "execute_result"
    }
   ],
   "source": [
    "my_list[:4]"
   ]
  },
  {
   "cell_type": "markdown",
   "id": "56c23b19",
   "metadata": {},
   "source": [
    "Q5. What is an indexed character's exact data type? What is the data form of a slicing-generated substring?\n",
    "\n",
    "          for both cases, it is 'str' type."
   ]
  },
  {
   "cell_type": "markdown",
   "id": "59ec8d36",
   "metadata": {},
   "source": [
    "Q6. What is the relationship between string and character \"types\" in Python?\n",
    "\n",
    "           Strings are defined as an array of characters. The difference between a character array and a string is the string is terminated with a special character '\\0'. Declaring a string is as simple as declaring a one dimensional array. Below is the basic syntax for declaring a string in python programming language\n",
    "\n",
    "           \"python str\" should lead you to the official python.org string methods which lists all the str methods. Python does not have a separate character type. Instead an expression like s[8] returns a string-length-1 containing the character.\n",
    "\n",
    "             Individual characters in a string can be accessed by specifying the string name followed by a number in square brackets ( [] ). String indexing in Python is zero-based: the first character in the string has index 0 , the next has index 1 , and so on."
   ]
  },
  {
   "cell_type": "markdown",
   "id": "4c9f067a",
   "metadata": {},
   "source": [
    "Q7. Identify at least two operators and one method that allow you to combine one or more smaller strings to create a larger string.\n",
    "\n",
    "Using the % operator\n",
    "\n",
    "      The modulus operator (“%”) can be used for both string formatting and string concatenation. It is useful for cases in which you need to combine strings and also perform basic formatting.\n",
    "\n",
    "An example to illustrate concatenation of string using “%” operator:"
   ]
  },
  {
   "cell_type": "code",
   "execution_count": 17,
   "id": "5aa3661c",
   "metadata": {},
   "outputs": [
    {
     "name": "stdout",
     "output_type": "stream",
     "text": [
      "Apple Shake\n"
     ]
    }
   ],
   "source": [
    "a = 'Apple' \n",
    "b = 'Shake'\n",
    "print('% s % s' % (a, b)) "
   ]
  },
  {
   "cell_type": "markdown",
   "id": "38d70458",
   "metadata": {},
   "source": [
    "Using the f-string\n",
    "\n",
    "       Formatted string literals or f-strings, in short, are string literals in Python. They contain an f at the beginning and curly braces that contain the expressions. It calls the str() method when an object argument is used as field replacement.\n",
    "\n",
    "Let us see an example to illustrate the concatenation of string using f-string:"
   ]
  },
  {
   "cell_type": "code",
   "execution_count": 18,
   "id": "4098bab5",
   "metadata": {},
   "outputs": [
    {
     "name": "stdout",
     "output_type": "stream",
     "text": [
      "Apple Shake\n"
     ]
    }
   ],
   "source": [
    "a = 'Apple' \n",
    "b = 'Shake'\n",
    "print(f'{a} {b}') "
   ]
  },
  {
   "cell_type": "markdown",
   "id": "ee408715",
   "metadata": {},
   "source": [
    "Q8. What is the benefit of first checking the target string with in or not in before using the index method to find a substring?\n",
    "\n",
    "        Normally, when we use index() method it will return the starting index of a substring, if substring is present in a string. But the major concern is if a substring is not present in a string, index() will return a ValueError. To avoid this, we can first check the target string with in or not in before using the index method to find a substring."
   ]
  },
  {
   "cell_type": "code",
   "execution_count": 19,
   "id": "697f4ac5",
   "metadata": {},
   "outputs": [
    {
     "ename": "ValueError",
     "evalue": "substring not found",
     "output_type": "error",
     "traceback": [
      "\u001b[1;31m---------------------------------------------------------------------------\u001b[0m",
      "\u001b[1;31mValueError\u001b[0m                                Traceback (most recent call last)",
      "Input \u001b[1;32mIn [19]\u001b[0m, in \u001b[0;36m<cell line: 8>\u001b[1;34m()\u001b[0m\n\u001b[0;32m      5\u001b[0m \u001b[38;5;28;01mif\u001b[39;00m s1 \u001b[38;5;129;01min\u001b[39;00m s:\n\u001b[0;32m      6\u001b[0m     \u001b[38;5;28mprint\u001b[39m(s\u001b[38;5;241m.\u001b[39mindex(s1))\n\u001b[1;32m----> 8\u001b[0m \u001b[43ms\u001b[49m\u001b[38;5;241;43m.\u001b[39;49m\u001b[43mindex\u001b[49m\u001b[43m(\u001b[49m\u001b[43ms1\u001b[49m\u001b[43m)\u001b[49m\n",
      "\u001b[1;31mValueError\u001b[0m: substring not found"
     ]
    }
   ],
   "source": [
    "s = 'abcdefghijk'\n",
    "\n",
    "s1 = 'xyz'\n",
    "\n",
    "if s1 in s:\n",
    "    print(s.index(s1))\n",
    "\n",
    "s.index(s1)"
   ]
  },
  {
   "cell_type": "markdown",
   "id": "89191ffa",
   "metadata": {},
   "source": [
    "Q9. Which operators and built-in string methods produce simple Boolean (true/false) results?\n",
    "\n",
    "Operators:\n",
    "\n",
    "    1. Comparison operators : (== ,!= ,< ,> ,<=, >=) \n",
    "    2. Logical Operators : (and, or, not)\n",
    "    3. Identity Operators : (is , is not)\n",
    "    4. Membership Operators : (in, not in)\n",
    "\n",
    "String methods:\n",
    "\n",
    "    1. endswith() : Returns true if the string ends with the specified value \n",
    "    2. isalnum()\tReturns True if all characters in the string are alphanumeric        \n",
    "    3. isalpha()\tReturns True if all characters in the string are in the alphabet        \n",
    "    4. isdecimal()\tReturns True if all characters in the string are decimals       \n",
    "    5. isdigit()\tReturns True if all characters in the string are digits        \n",
    "    6. isidentifier()\tReturns True if the string is an identifier        \n",
    "    7. islower()\tReturns True if all characters in the string are lower case        \n",
    "    8. isnumeric()\tReturns True if all characters in the string are numeric        \n",
    "    9. isprintable()\tReturns True if all characters in the string are printable        \n",
    "    10. isspace()\tReturns True if all characters in the string are whitespaces        \n",
    "    11. istitle()\tReturns True if the string follows the rules of a title        \n",
    "    12. isupper()\tReturns True if all characters in the string are upper case"
   ]
  },
  {
   "cell_type": "code",
   "execution_count": 20,
   "id": "ff9baf23",
   "metadata": {},
   "outputs": [
    {
     "name": "stdout",
     "output_type": "stream",
     "text": [
      "x == y: False\n",
      "x != y: True\n",
      "x < y: True\n",
      "x > y: False\n",
      "x <= y: True\n",
      "x >= y: False\n"
     ]
    }
   ],
   "source": [
    "x = 5\n",
    "y = 8\n",
    "\n",
    "print(\"x == y:\", x == y)\n",
    "print(\"x != y:\", x != y)\n",
    "print(\"x < y:\", x < y)\n",
    "print(\"x > y:\", x > y)\n",
    "print(\"x <= y:\", x <= y)\n",
    "print(\"x >= y:\", x >= y)"
   ]
  }
 ],
 "metadata": {
  "kernelspec": {
   "display_name": "Python 3 (ipykernel)",
   "language": "python",
   "name": "python3"
  },
  "language_info": {
   "codemirror_mode": {
    "name": "ipython",
    "version": 3
   },
   "file_extension": ".py",
   "mimetype": "text/x-python",
   "name": "python",
   "nbconvert_exporter": "python",
   "pygments_lexer": "ipython3",
   "version": "3.9.12"
  }
 },
 "nbformat": 4,
 "nbformat_minor": 5
}
